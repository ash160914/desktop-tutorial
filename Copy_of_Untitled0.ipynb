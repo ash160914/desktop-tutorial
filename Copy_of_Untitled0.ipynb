{
  "nbformat": 4,
  "nbformat_minor": 0,
  "metadata": {
    "colab": {
      "provenance": [],
      "authorship_tag": "ABX9TyPzFHzA/lhoF1IMFSsWBbJb",
      "include_colab_link": true
    },
    "kernelspec": {
      "name": "python3",
      "display_name": "Python 3"
    },
    "language_info": {
      "name": "python"
    }
  },
  "cells": [
    {
      "cell_type": "markdown",
      "metadata": {
        "id": "view-in-github",
        "colab_type": "text"
      },
      "source": [
        "<a href=\"https://colab.research.google.com/github/ash160914/desktop-tutorial/blob/main/Copy_of_Untitled0.ipynb\" target=\"_parent\"><img src=\"https://colab.research.google.com/assets/colab-badge.svg\" alt=\"Open In Colab\"/></a>"
      ]
    },
    {
      "cell_type": "code",
      "execution_count": null,
      "metadata": {
        "colab": {
          "base_uri": "https://localhost:8080/"
        },
        "id": "kD4r3m3ssmbv",
        "outputId": "8e57f21a-2aed-468d-96e5-90de78b0899e"
      },
      "outputs": [
        {
          "output_type": "stream",
          "name": "stdout",
          "text": [
            "sum  of all elements in given list:  74\n"
          ]
        }
      ],
      "source": [
        "total=0\n",
        "ele=0\n",
        "list1 = [11,5,17,18,23]\n",
        "while(ele < len(list1)):\n",
        "        total=total + list1[ele]\n",
        "        ele += 1\n",
        "print(\"sum  of all elements in given list: \",total)"
      ]
    }
  ]
}