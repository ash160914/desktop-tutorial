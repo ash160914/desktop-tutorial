{
  "nbformat": 4,
  "nbformat_minor": 0,
  "metadata": {
    "colab": {
      "provenance": [],
      "authorship_tag": "ABX9TyPp1lSD9j3qdO5B3SNGfKjH",
      "include_colab_link": true
    },
    "kernelspec": {
      "name": "python3",
      "display_name": "Python 3"
    },
    "language_info": {
      "name": "python"
    }
  },
  "cells": [
    {
      "cell_type": "markdown",
      "metadata": {
        "id": "view-in-github",
        "colab_type": "text"
      },
      "source": [
        "<a href=\"https://colab.research.google.com/github/ash160914/desktop-tutorial/blob/main/Untitled.ipynb\" target=\"_parent\"><img src=\"https://colab.research.google.com/assets/colab-badge.svg\" alt=\"Open In Colab\"/></a>"
      ]
    },
    {
      "cell_type": "code",
      "execution_count": 1,
      "metadata": {
        "colab": {
          "base_uri": "https://localhost:8080/"
        },
        "id": "_OqucYnLCfor",
        "outputId": "b748ab71-4fea-468d-8e40-06ee645cece7"
      },
      "outputs": [
        {
          "output_type": "stream",
          "name": "stdout",
          "text": [
            "35\n",
            "48\n"
          ]
        }
      ],
      "source": [
        "#Write a Python program to create a lambda function that adds 25 to a given number passed in as an argument.\n",
        "\n",
        "r=lambda a : a + 25\n",
        "print(r(10))\n",
        "r=lambda x , y : x * y\n",
        "print(r(12,4))"
      ]
    },
    {
      "cell_type": "code",
      "source": [
        "#Write a Python program to triple all numbers of a given list of integers. Use Python map\n",
        "\n",
        "nums=(1,2,3,4,5,6,7)\n",
        "print(\"Original list :\", nums)\n",
        "result=map(lambda x:x+x+x,nums)\n",
        "print(\"\\n Triple of said list number :\")\n",
        "print(list(result))\n"
      ],
      "metadata": {
        "colab": {
          "base_uri": "https://localhost:8080/"
        },
        "id": "l3Qta6PaCtJH",
        "outputId": "cab58c2c-8f15-497b-ba3d-6397c09bb3af"
      },
      "execution_count": 2,
      "outputs": [
        {
          "output_type": "stream",
          "name": "stdout",
          "text": [
            "Original list : (1, 2, 3, 4, 5, 6, 7)\n",
            "\n",
            " Triple of said list number :\n",
            "[3, 6, 9, 12, 15, 18, 21]\n"
          ]
        }
      ]
    },
    {
      "cell_type": "code",
      "source": [
        "#Write a Python program to square the elements of a list using map() function.\n",
        "\n",
        "def num(n):\n",
        "  return n * n\n",
        "numbers=[4,5,6,7]\n",
        "print(\"Original :\",numbers) \n",
        "result=map(num,numbers)\n",
        "print(\"Square the elements of the said list using map() :\")\n",
        "print(list(result))"
      ],
      "metadata": {
        "colab": {
          "base_uri": "https://localhost:8080/"
        },
        "id": "-9pxbeEyFNi-",
        "outputId": "738664a5-f644-415f-cf71-eaf2e2f8d3f6"
      },
      "execution_count": 3,
      "outputs": [
        {
          "output_type": "stream",
          "name": "stdout",
          "text": [
            "Original : [4, 5, 6, 7]\n",
            "Square the elements of the said list using map() :\n",
            "[16, 25, 36, 49]\n"
          ]
        }
      ]
    }
  ]
}